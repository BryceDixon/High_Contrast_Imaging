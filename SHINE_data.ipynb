{
 "cells": [
  {
   "cell_type": "code",
   "execution_count": 1,
   "metadata": {},
   "outputs": [],
   "source": [
    "import numpy as np\n",
    "import matplotlib.pyplot as plt\n",
    "import pandas as pd"
   ]
  },
  {
   "cell_type": "code",
   "execution_count": 2,
   "metadata": {},
   "outputs": [],
   "source": [
    "obj = pd.read_pickle(\"C:/Users/bryce/Downloads/F150_lim.pkl\")"
   ]
  },
  {
   "cell_type": "code",
   "execution_count": 5,
   "metadata": {},
   "outputs": [
    {
     "name": "stdout",
     "output_type": "stream",
     "text": [
      "dict_keys(['ID', 'Mstar', 'dist', 'MGroup', 'xlim', 'ylim'])\n",
      "[3, 21, 25, 26, 31, 103, 106, 107, 108, 109, 110, 111, 112, 118, 119, 122, 126, 129, 140, 141]\n",
      "[55, 58, 70, 115]\n",
      "['TWA_6', 'CE_Ant', 'HIP_61498', 'HIP_93747']\n"
     ]
    }
   ],
   "source": [
    "print(obj.keys())\n",
    "obj['MGroup']\n",
    "BPIC_list = []\n",
    "TWa_list = []\n",
    "for i in range(len(obj['MGroup'])):\n",
    "    if obj['MGroup'][i] == 'BPIC':\n",
    "        BPIC_list.append(i)\n",
    "    if obj['MGroup'][i] == 'TWA':\n",
    "        TWa_list.append(i)\n",
    "print(BPIC_list)\n",
    "print(TWa_list)\n",
    "dist = []\n",
    "for i in range(len(TWa_list)):\n",
    "    dist.append((obj['ID'][TWa_list[i]]))\n",
    "print(dist)\n"
   ]
  },
  {
   "cell_type": "code",
   "execution_count": null,
   "metadata": {},
   "outputs": [],
   "source": []
  }
 ],
 "metadata": {
  "kernelspec": {
   "display_name": "base",
   "language": "python",
   "name": "python3"
  },
  "language_info": {
   "codemirror_mode": {
    "name": "ipython",
    "version": 3
   },
   "file_extension": ".py",
   "mimetype": "text/x-python",
   "name": "python",
   "nbconvert_exporter": "python",
   "pygments_lexer": "ipython3",
   "version": "3.11.4"
  }
 },
 "nbformat": 4,
 "nbformat_minor": 2
}
