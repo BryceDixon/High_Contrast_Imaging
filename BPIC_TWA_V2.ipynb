{
 "cells": [
  {
   "cell_type": "code",
   "execution_count": 1,
   "metadata": {},
   "outputs": [
    {
     "name": "stderr",
     "output_type": "stream",
     "text": [
      "c:\\Users\\bryce\\anaconda3\\Lib\\site-packages\\paramiko\\transport.py:219: CryptographyDeprecationWarning: Blowfish has been deprecated and will be removed in a future release\n",
      "  \"class\": algorithms.Blowfish,\n"
     ]
    },
    {
     "name": "stdout",
     "output_type": "stream",
     "text": [
      "==============\n",
      "species v0.8.4\n",
      "==============\n",
      "\n",
      "Working folder: c:\\Users\\bryce\\High_Contrast_Imaging\n",
      "\n",
      "Configuration file: c:\\Users\\bryce\\High_Contrast_Imaging\\species_config.ini\n",
      "Database file: c:\\Users\\bryce\\High_Contrast_Imaging\\species_database.hdf5\n",
      "Data folder: c:\\Users\\bryce\\High_Contrast_Imaging\\data\n",
      "\n",
      "Configuration settings:\n",
      "   - Database: c:\\Users\\bryce\\High_Contrast_Imaging\\species_database.hdf5\n",
      "   - Data folder: c:\\Users\\bryce\\High_Contrast_Imaging\\data\n",
      "   - Magnitude of Vega: 0.03\n",
      "\n",
      "Multiprocessing: mpi4py installed\n",
      "Process number 1 out of 1...\n"
     ]
    }
   ],
   "source": [
    "import numpy as np\n",
    "import det_prob_plot as det\n",
    "import matplotlib.pyplot as plt\n",
    "from matplotlib import colors as mcolors"
   ]
  },
  {
   "cell_type": "code",
   "execution_count": 6,
   "metadata": {},
   "outputs": [],
   "source": [
    "model = 'linder2019'\n",
    "model_tag = 'linder2019-HELIOS-metal_0.0'\n",
    "foldername = 'C:/Users/bryce/High_Contrast_Imaging/METIS_2023/exeter/fits'\n",
    "file_list = ['cc_adi_bckg1_mag7_L_CVC_exeter_all_effects.fits',\n",
    "             'cc_adi_bckg1_mag7.5_L_CVC_exeter_all_effects.fits',\n",
    "             'cc_adi_bckg1_mag8_L_CVC_exeter_all_effects.fits'\n",
    "             ]\n",
    "file_mag_list = [7,7.5,8]\n",
    "stellar_mag_list = [7.93,\n",
    "7.462,\n",
    "7.092,\n",
    "7.198,\n",
    "8.047,\n",
    "7.667,\n",
    "8.027,\n",
    "8.461,\n",
    "7.123,\n",
    "7.154,\n",
    "8.18,\n",
    "7.125,\n",
    "6.77,\n",
    "6.984,\n",
    "7.767,\n",
    "7.504,\n",
    "8.025,\n",
    "6.987\n",
    "]\n",
    "star_list = ['2MASS J00172353-6645124',\n",
    "'TYC 8728 2262 1',\n",
    "'HIP 86598',\n",
    "'HIP 89829',\n",
    "'TYC 9073 0762 1',\n",
    "'TYC 7408 0054 1',\n",
    "'TYC 7443 1102 1',\n",
    "'2M J2001-3313',\n",
    "'TYC 9340 0437 1',\n",
    "'HIP 112312',\n",
    "'TWA 6',\n",
    "'TWA 7',\n",
    "'TYC_5832_0666_1',\n",
    "'HIP 29964',\n",
    "'HD 286264',\n",
    "'TWA 25',\n",
    "'TWA 23',\n",
    "'TWA 5'\n",
    "]\n",
    "filter_name_list = ['MKO_Lp']*18\n",
    "band_list = ['L']*18\n",
    "savefolder = 'C:/Users/bryce/High_Contrast_Imaging/METIS_2024/Linder/L'\n",
    "distance = [36.8,\n",
    "67.8,\n",
    "65.7,\n",
    "79.4,\n",
    "50.6,\n",
    "49.6,\n",
    "51.2,\n",
    "60,\n",
    "36.7,\n",
    "20.9,\n",
    "65.6,\n",
    "34,\n",
    "28,\n",
    "39.2,\n",
    "53.4,\n",
    "53.6,\n",
    "56.8,\n",
    "49.7\n",
    "]\n",
    "age = [24,\n",
    "24,\n",
    "24,\n",
    "24,\n",
    "24,\n",
    "24,\n",
    "24,\n",
    "24,\n",
    "24,\n",
    "24,\n",
    "10,\n",
    "10,\n",
    "24,\n",
    "24,\n",
    "24,\n",
    "10,\n",
    "10,\n",
    "10\n",
    "]"
   ]
  },
  {
   "cell_type": "code",
   "execution_count": 7,
   "metadata": {},
   "outputs": [
    {
     "name": "stdout",
     "output_type": "stream",
     "text": [
      "\n",
      "------------------\n",
      "Add isochrone grid\n",
      "------------------\n",
      "\n",
      "Evolutionary model: linder2019\n",
      "File name: None\n",
      "Database tag: None\n"
     ]
    },
    {
     "ename": "PermissionError",
     "evalue": "[WinError 5] Access is denied: 'data\\\\linder_2019\\\\cooling_curves\\\\BEX_evol_mags_-2_MH_-0.4_fsed_1.00_ME_010.dat'",
     "output_type": "error",
     "traceback": [
      "\u001b[1;31m---------------------------------------------------------------------------\u001b[0m",
      "\u001b[1;31mPermissionError\u001b[0m                           Traceback (most recent call last)",
      "Cell \u001b[1;32mIn[7], line 1\u001b[0m\n\u001b[1;32m----> 1\u001b[0m det\u001b[38;5;241m.\u001b[39mplot(model, model_tag, foldername, file_list, file_mag_list, distance, age, stellar_mag_list, filter_name_list, band_list, savefolder, star_list \u001b[38;5;241m=\u001b[39m star_list, xmin \u001b[38;5;241m=\u001b[39m \u001b[38;5;241m0.5\u001b[39m, xmax \u001b[38;5;241m=\u001b[39m \u001b[38;5;241m500\u001b[39m, logx \u001b[38;5;241m=\u001b[39m \u001b[38;5;28;01mTrue\u001b[39;00m)\n",
      "File \u001b[1;32mc:\\Users\\bryce\\High_Contrast_Imaging\\det_prob_plot.py:136\u001b[0m, in \u001b[0;36mplot\u001b[1;34m(model, model_tag, foldername, file_list, file_mag_list, distance, age, stellar_mag_list, filter_name_list, band_list, savefolder, xmin, xmax, logx, star_list, interpolate, custom)\u001b[0m\n\u001b[0;32m     99\u001b[0m \u001b[38;5;250m\u001b[39m\u001b[38;5;124;03m\"\"\"Function to plot detection probability plots for a given population of stars \u001b[39;00m\n\u001b[0;32m    100\u001b[0m \n\u001b[0;32m    101\u001b[0m \u001b[38;5;124;03mParameters\u001b[39;00m\n\u001b[1;32m   (...)\u001b[0m\n\u001b[0;32m    132\u001b[0m \u001b[38;5;124;03m    list of the names of the stars, defaults to None\u001b[39;00m\n\u001b[0;32m    133\u001b[0m \u001b[38;5;124;03m\"\"\"\u001b[39;00m\n\u001b[0;32m    134\u001b[0m \u001b[38;5;28;01massert\u001b[39;00m \u001b[38;5;28mlen\u001b[39m(stellar_mag_list) \u001b[38;5;241m==\u001b[39m \u001b[38;5;28mlen\u001b[39m(filter_name_list) \u001b[38;5;241m==\u001b[39m \u001b[38;5;28mlen\u001b[39m(band_list), \u001b[38;5;124m\"\u001b[39m\u001b[38;5;124mAll lists must be the same length\u001b[39m\u001b[38;5;124m\"\u001b[39m\n\u001b[1;32m--> 136\u001b[0m _ \u001b[38;5;241m=\u001b[39m det_prob(model, model_tag)\n\u001b[0;32m    138\u001b[0m \u001b[38;5;28;01mfor\u001b[39;00m N \u001b[38;5;129;01min\u001b[39;00m \u001b[38;5;28mrange\u001b[39m(\u001b[38;5;28mlen\u001b[39m(stellar_mag_list)):\n\u001b[0;32m    140\u001b[0m     \u001b[38;5;28;01mif\u001b[39;00m custom \u001b[38;5;241m==\u001b[39m \u001b[38;5;28;01mTrue\u001b[39;00m:\n",
      "File \u001b[1;32mc:\\Users\\bryce\\High_Contrast_Imaging\\det_prob_plot.py:21\u001b[0m, in \u001b[0;36mdet_prob.__init__\u001b[1;34m(self, model, model_tag)\u001b[0m\n\u001b[0;32m     18\u001b[0m \u001b[38;5;28;01mdef\u001b[39;00m \u001b[38;5;21m__init__\u001b[39m(\u001b[38;5;28mself\u001b[39m, model, model_tag):\n\u001b[0;32m     20\u001b[0m     \u001b[38;5;28mself\u001b[39m\u001b[38;5;241m.\u001b[39mdatabase \u001b[38;5;241m=\u001b[39m Database()\n\u001b[1;32m---> 21\u001b[0m     \u001b[38;5;28mself\u001b[39m\u001b[38;5;241m.\u001b[39mdatabase\u001b[38;5;241m.\u001b[39madd_isochrones(model\u001b[38;5;241m=\u001b[39mmodel)\n\u001b[0;32m     22\u001b[0m     \u001b[38;5;28mself\u001b[39m\u001b[38;5;241m.\u001b[39mread_iso \u001b[38;5;241m=\u001b[39m ReadIsochrone(tag\u001b[38;5;241m=\u001b[39mmodel_tag)\n",
      "File \u001b[1;32mc:\\Users\\bryce\\anaconda3\\Lib\\site-packages\\species\\data\\database.py:665\u001b[0m, in \u001b[0;36madd_isochrones\u001b[1;34m(self, model, filename, tag)\u001b[0m\n\u001b[0;32m    662\u001b[0m     \u001b[38;5;28;01mif\u001b[39;00m \u001b[38;5;124m\"\u001b[39m\u001b[38;5;124misochrones/sonora-0.5\u001b[39m\u001b[38;5;124m\"\u001b[39m \u001b[38;5;129;01min\u001b[39;00m hdf5_file:\n\u001b[0;32m    663\u001b[0m         \u001b[38;5;28;01mdel\u001b[39;00m hdf5_file[\u001b[38;5;124m\"\u001b[39m\u001b[38;5;124misochrones/sonora-0.5\u001b[39m\u001b[38;5;124m\"\u001b[39m]\n\u001b[1;32m--> 665\u001b[0m add_isochrone_grid(\n\u001b[0;32m    666\u001b[0m     \u001b[38;5;28mself\u001b[39m\u001b[38;5;241m.\u001b[39mdata_folder, hdf5_file, model, filename\u001b[38;5;241m=\u001b[39mfilename, tag\u001b[38;5;241m=\u001b[39mtag\n\u001b[0;32m    667\u001b[0m )\n",
      "File \u001b[1;32mc:\\Users\\bryce\\anaconda3\\Lib\\site-packages\\species\\data\\isochrone_data\\add_isochrone.py:79\u001b[0m, in \u001b[0;36madd_isochrone_grid\u001b[1;34m(data_folder, hdf5_file, model_name, filename, tag)\u001b[0m\n\u001b[0;32m     76\u001b[0m     add_btsettl(hdf5_file, data_folder)\n\u001b[0;32m     78\u001b[0m \u001b[38;5;28;01melif\u001b[39;00m model_name \u001b[38;5;241m==\u001b[39m \u001b[38;5;124m\"\u001b[39m\u001b[38;5;124mlinder2019\u001b[39m\u001b[38;5;124m\"\u001b[39m:\n\u001b[1;32m---> 79\u001b[0m     add_linder2019(hdf5_file, data_folder)\n\u001b[0;32m     81\u001b[0m \u001b[38;5;28;01melif\u001b[39;00m model_name \u001b[38;5;241m==\u001b[39m \u001b[38;5;124m\"\u001b[39m\u001b[38;5;124mmanual\u001b[39m\u001b[38;5;124m\"\u001b[39m:\n\u001b[0;32m     82\u001b[0m     add_manual(hdf5_file, tag, filename)\n",
      "File \u001b[1;32mc:\\Users\\bryce\\anaconda3\\Lib\\site-packages\\species\\data\\isochrone_data\\iso_linder2019.py:80\u001b[0m, in \u001b[0;36madd_linder2019\u001b[1;34m(database, input_path)\u001b[0m\n\u001b[0;32m     73\u001b[0m data_folder \u001b[38;5;241m=\u001b[39m Path(input_path) \u001b[38;5;241m/\u001b[39m \u001b[38;5;124m\"\u001b[39m\u001b[38;5;124mlinder_2019\u001b[39m\u001b[38;5;124m\"\u001b[39m\n\u001b[0;32m     75\u001b[0m \u001b[38;5;28;01mif\u001b[39;00m data_folder\u001b[38;5;241m.\u001b[39mexists():\n\u001b[0;32m     76\u001b[0m     \u001b[38;5;66;03m# The folder should be removed if the TAR file was previously\u001b[39;00m\n\u001b[0;32m     77\u001b[0m     \u001b[38;5;66;03m# unpacked because the file permissions are set to read-only\u001b[39;00m\n\u001b[0;32m     78\u001b[0m     \u001b[38;5;66;03m# such that the extract_tarfile will cause an error if the\u001b[39;00m\n\u001b[0;32m     79\u001b[0m     \u001b[38;5;66;03m# files need to be overwritten\u001b[39;00m\n\u001b[1;32m---> 80\u001b[0m     remove_directory(data_folder)\n\u001b[0;32m     82\u001b[0m data_folder\u001b[38;5;241m.\u001b[39mmkdir()\n\u001b[0;32m     84\u001b[0m url \u001b[38;5;241m=\u001b[39m \u001b[38;5;124m\"\u001b[39m\u001b[38;5;124mhttps://cdsarc.u-strasbg.fr/viz-bin/nph-Cat/tar.gz?J/A+A/623/A85\u001b[39m\u001b[38;5;124m\"\u001b[39m\n",
      "File \u001b[1;32mc:\\Users\\bryce\\anaconda3\\Lib\\site-packages\\species\\util\\data_util.py:1090\u001b[0m, in \u001b[0;36mremove_directory\u001b[1;34m(dir_in)\u001b[0m\n\u001b[0;32m   1088\u001b[0m \u001b[38;5;28;01mfor\u001b[39;00m path_item \u001b[38;5;129;01min\u001b[39;00m dir_in\u001b[38;5;241m.\u001b[39miterdir():\n\u001b[0;32m   1089\u001b[0m     \u001b[38;5;28;01mif\u001b[39;00m path_item\u001b[38;5;241m.\u001b[39mis_dir():\n\u001b[1;32m-> 1090\u001b[0m         remove_directory(path_item)\n\u001b[0;32m   1091\u001b[0m     \u001b[38;5;28;01melse\u001b[39;00m:\n\u001b[0;32m   1092\u001b[0m         path_item\u001b[38;5;241m.\u001b[39munlink()\n",
      "File \u001b[1;32mc:\\Users\\bryce\\anaconda3\\Lib\\site-packages\\species\\util\\data_util.py:1092\u001b[0m, in \u001b[0;36mremove_directory\u001b[1;34m(dir_in)\u001b[0m\n\u001b[0;32m   1090\u001b[0m         remove_directory(path_item)\n\u001b[0;32m   1091\u001b[0m     \u001b[38;5;28;01melse\u001b[39;00m:\n\u001b[1;32m-> 1092\u001b[0m         path_item\u001b[38;5;241m.\u001b[39munlink()\n\u001b[0;32m   1094\u001b[0m dir_in\u001b[38;5;241m.\u001b[39mrmdir()\n",
      "File \u001b[1;32mc:\\Users\\bryce\\anaconda3\\Lib\\pathlib.py:1147\u001b[0m, in \u001b[0;36mPath.unlink\u001b[1;34m(self, missing_ok)\u001b[0m\n\u001b[0;32m   1142\u001b[0m \u001b[38;5;250m\u001b[39m\u001b[38;5;124;03m\"\"\"\u001b[39;00m\n\u001b[0;32m   1143\u001b[0m \u001b[38;5;124;03mRemove this file or link.\u001b[39;00m\n\u001b[0;32m   1144\u001b[0m \u001b[38;5;124;03mIf the path is a directory, use rmdir() instead.\u001b[39;00m\n\u001b[0;32m   1145\u001b[0m \u001b[38;5;124;03m\"\"\"\u001b[39;00m\n\u001b[0;32m   1146\u001b[0m \u001b[38;5;28;01mtry\u001b[39;00m:\n\u001b[1;32m-> 1147\u001b[0m     os\u001b[38;5;241m.\u001b[39munlink(\u001b[38;5;28mself\u001b[39m)\n\u001b[0;32m   1148\u001b[0m \u001b[38;5;28;01mexcept\u001b[39;00m \u001b[38;5;167;01mFileNotFoundError\u001b[39;00m:\n\u001b[0;32m   1149\u001b[0m     \u001b[38;5;28;01mif\u001b[39;00m \u001b[38;5;129;01mnot\u001b[39;00m missing_ok:\n",
      "\u001b[1;31mPermissionError\u001b[0m: [WinError 5] Access is denied: 'data\\\\linder_2019\\\\cooling_curves\\\\BEX_evol_mags_-2_MH_-0.4_fsed_1.00_ME_010.dat'"
     ]
    }
   ],
   "source": [
    "det.plot(model, model_tag, foldername, file_list, file_mag_list, distance, age, stellar_mag_list, filter_name_list, band_list, savefolder, star_list = star_list, xmin = 0.5, xmax = 500, logx = True)"
   ]
  },
  {
   "cell_type": "code",
   "execution_count": 3,
   "metadata": {},
   "outputs": [
    {
     "name": "stdout",
     "output_type": "stream",
     "text": [
      "==============\n",
      "species v0.8.4\n",
      "==============\n"
     ]
    },
    {
     "name": "stderr",
     "output_type": "stream",
     "text": [
      "Downloading data from 'https://cdsarc.u-strasbg.fr/viz-bin/nph-Cat/tar.gz?J/A+A/623/A85' to file 'C:\\Users\\bryce\\High_Contrast_Imaging\\data\\J_A+A_623_A85.tar.gz'.\n"
     ]
    },
    {
     "name": "stdout",
     "output_type": "stream",
     "text": [
      "\n",
      "Working folder: c:\\Users\\bryce\\High_Contrast_Imaging\n",
      "\n",
      "Configuration file: c:\\Users\\bryce\\High_Contrast_Imaging\\species_config.ini\n",
      "Database file: c:\\Users\\bryce\\High_Contrast_Imaging\\species_database.hdf5\n",
      "Data folder: c:\\Users\\bryce\\High_Contrast_Imaging\\data\n",
      "\n",
      "Configuration settings:\n",
      "   - Database: c:\\Users\\bryce\\High_Contrast_Imaging\\species_database.hdf5\n",
      "   - Data folder: c:\\Users\\bryce\\High_Contrast_Imaging\\data\n",
      "   - Magnitude of Vega: 0.03\n",
      "\n",
      "Multiprocessing: mpi4py installed\n",
      "Process number 1 out of 1...\n",
      "\n",
      "------------------\n",
      "Add isochrone grid\n",
      "------------------\n",
      "\n",
      "Evolutionary model: linder2019\n",
      "File name: None\n",
      "Database tag: None\n",
      "\n"
     ]
    },
    {
     "name": "stderr",
     "output_type": "stream",
     "text": [
      "0.00B [00:00, ?B/s]    \n"
     ]
    },
    {
     "ename": "ValueError",
     "evalue": "SHA256 hash of downloaded file (J_A+A_623_A85.tar.gz) does not match the known hash: expected 87d218fced3c6cbf9cbe288512e9b47a3faa13886068edf18676f3cfdcb08d0f but got 83bbc673a10207838983e0155ec21915caedd6465d6926fba23675562797923d. Deleted download for safety. The downloaded file may have been corrupted or the known hash may be outdated.",
     "output_type": "error",
     "traceback": [
      "\u001b[1;31m---------------------------------------------------------------------------\u001b[0m",
      "\u001b[1;31mValueError\u001b[0m                                Traceback (most recent call last)",
      "Cell \u001b[1;32mIn[3], line 6\u001b[0m\n\u001b[0;32m      4\u001b[0m SpeciesInit()\n\u001b[0;32m      5\u001b[0m database \u001b[38;5;241m=\u001b[39m Database()\n\u001b[1;32m----> 6\u001b[0m database\u001b[38;5;241m.\u001b[39madd_isochrones(\u001b[38;5;124m'\u001b[39m\u001b[38;5;124mlinder2019\u001b[39m\u001b[38;5;124m'\u001b[39m)\n",
      "File \u001b[1;32mc:\\Users\\bryce\\anaconda3\\Lib\\site-packages\\species\\data\\database.py:665\u001b[0m, in \u001b[0;36madd_isochrones\u001b[1;34m(self, model, filename, tag)\u001b[0m\n\u001b[0;32m    662\u001b[0m     \u001b[38;5;28;01mif\u001b[39;00m \u001b[38;5;124m\"\u001b[39m\u001b[38;5;124misochrones/sonora-0.5\u001b[39m\u001b[38;5;124m\"\u001b[39m \u001b[38;5;129;01min\u001b[39;00m hdf5_file:\n\u001b[0;32m    663\u001b[0m         \u001b[38;5;28;01mdel\u001b[39;00m hdf5_file[\u001b[38;5;124m\"\u001b[39m\u001b[38;5;124misochrones/sonora-0.5\u001b[39m\u001b[38;5;124m\"\u001b[39m]\n\u001b[1;32m--> 665\u001b[0m add_isochrone_grid(\n\u001b[0;32m    666\u001b[0m     \u001b[38;5;28mself\u001b[39m\u001b[38;5;241m.\u001b[39mdata_folder, hdf5_file, model, filename\u001b[38;5;241m=\u001b[39mfilename, tag\u001b[38;5;241m=\u001b[39mtag\n\u001b[0;32m    667\u001b[0m )\n",
      "File \u001b[1;32mc:\\Users\\bryce\\anaconda3\\Lib\\site-packages\\species\\data\\isochrone_data\\add_isochrone.py:79\u001b[0m, in \u001b[0;36madd_isochrone_grid\u001b[1;34m(data_folder, hdf5_file, model_name, filename, tag)\u001b[0m\n\u001b[0;32m     76\u001b[0m     add_btsettl(hdf5_file, data_folder)\n\u001b[0;32m     78\u001b[0m \u001b[38;5;28;01melif\u001b[39;00m model_name \u001b[38;5;241m==\u001b[39m \u001b[38;5;124m\"\u001b[39m\u001b[38;5;124mlinder2019\u001b[39m\u001b[38;5;124m\"\u001b[39m:\n\u001b[1;32m---> 79\u001b[0m     add_linder2019(hdf5_file, data_folder)\n\u001b[0;32m     81\u001b[0m \u001b[38;5;28;01melif\u001b[39;00m model_name \u001b[38;5;241m==\u001b[39m \u001b[38;5;124m\"\u001b[39m\u001b[38;5;124mmanual\u001b[39m\u001b[38;5;124m\"\u001b[39m:\n\u001b[0;32m     82\u001b[0m     add_manual(hdf5_file, tag, filename)\n",
      "File \u001b[1;32mc:\\Users\\bryce\\anaconda3\\Lib\\site-packages\\species\\data\\isochrone_data\\iso_linder2019.py:91\u001b[0m, in \u001b[0;36madd_linder2019\u001b[1;34m(database, input_path)\u001b[0m\n\u001b[0;32m     88\u001b[0m \u001b[38;5;28;01mif\u001b[39;00m \u001b[38;5;129;01mnot\u001b[39;00m data_file\u001b[38;5;241m.\u001b[39mexists():\n\u001b[0;32m     89\u001b[0m     \u001b[38;5;28mprint\u001b[39m()\n\u001b[1;32m---> 91\u001b[0m     pooch\u001b[38;5;241m.\u001b[39mretrieve(\n\u001b[0;32m     92\u001b[0m         url\u001b[38;5;241m=\u001b[39murl,\n\u001b[0;32m     93\u001b[0m         known_hash\u001b[38;5;241m=\u001b[39m\u001b[38;5;124m\"\u001b[39m\u001b[38;5;124m87d218fced3c6cbf9cbe288512e9b47a3faa13886068edf18676f3cfdcb08d0f\u001b[39m\u001b[38;5;124m\"\u001b[39m,\n\u001b[0;32m     94\u001b[0m         fname\u001b[38;5;241m=\u001b[39minput_file,\n\u001b[0;32m     95\u001b[0m         path\u001b[38;5;241m=\u001b[39minput_path,\n\u001b[0;32m     96\u001b[0m         progressbar\u001b[38;5;241m=\u001b[39m\u001b[38;5;28;01mTrue\u001b[39;00m,\n\u001b[0;32m     97\u001b[0m     )\n\u001b[0;32m     99\u001b[0m \u001b[38;5;28mprint\u001b[39m(\u001b[38;5;124m\"\u001b[39m\u001b[38;5;130;01m\\n\u001b[39;00m\u001b[38;5;124mUnpacking Linder et al. (2019) isochrones (536 kB)...\u001b[39m\u001b[38;5;124m\"\u001b[39m, end\u001b[38;5;241m=\u001b[39m\u001b[38;5;124m\"\u001b[39m\u001b[38;5;124m\"\u001b[39m, flush\u001b[38;5;241m=\u001b[39m\u001b[38;5;28;01mTrue\u001b[39;00m)\n\u001b[0;32m    100\u001b[0m extract_tarfile(\u001b[38;5;28mstr\u001b[39m(data_file), \u001b[38;5;28mstr\u001b[39m(data_folder))\n",
      "File \u001b[1;32mc:\\Users\\bryce\\anaconda3\\Lib\\site-packages\\pooch\\core.py:239\u001b[0m, in \u001b[0;36mretrieve\u001b[1;34m(url, known_hash, fname, path, processor, downloader, progressbar)\u001b[0m\n\u001b[0;32m    236\u001b[0m \u001b[38;5;28;01mif\u001b[39;00m downloader \u001b[38;5;129;01mis\u001b[39;00m \u001b[38;5;28;01mNone\u001b[39;00m:\n\u001b[0;32m    237\u001b[0m     downloader \u001b[38;5;241m=\u001b[39m choose_downloader(url, progressbar\u001b[38;5;241m=\u001b[39mprogressbar)\n\u001b[1;32m--> 239\u001b[0m stream_download(url, full_path, known_hash, downloader, pooch\u001b[38;5;241m=\u001b[39m\u001b[38;5;28;01mNone\u001b[39;00m)\n\u001b[0;32m    241\u001b[0m \u001b[38;5;28;01mif\u001b[39;00m known_hash \u001b[38;5;129;01mis\u001b[39;00m \u001b[38;5;28;01mNone\u001b[39;00m:\n\u001b[0;32m    242\u001b[0m     get_logger()\u001b[38;5;241m.\u001b[39minfo(\n\u001b[0;32m    243\u001b[0m         \u001b[38;5;124m\"\u001b[39m\u001b[38;5;124mSHA256 hash of downloaded file: \u001b[39m\u001b[38;5;132;01m%s\u001b[39;00m\u001b[38;5;130;01m\\n\u001b[39;00m\u001b[38;5;124m\"\u001b[39m\n\u001b[0;32m    244\u001b[0m         \u001b[38;5;124m\"\u001b[39m\u001b[38;5;124mUse this value as the \u001b[39m\u001b[38;5;124m'\u001b[39m\u001b[38;5;124mknown_hash\u001b[39m\u001b[38;5;124m'\u001b[39m\u001b[38;5;124m argument of \u001b[39m\u001b[38;5;124m'\u001b[39m\u001b[38;5;124mpooch.retrieve\u001b[39m\u001b[38;5;124m'\u001b[39m\u001b[38;5;124m\"\u001b[39m\n\u001b[1;32m   (...)\u001b[0m\n\u001b[0;32m    247\u001b[0m         file_hash(\u001b[38;5;28mstr\u001b[39m(full_path)),\n\u001b[0;32m    248\u001b[0m     )\n",
      "File \u001b[1;32mc:\\Users\\bryce\\anaconda3\\Lib\\site-packages\\pooch\\core.py:808\u001b[0m, in \u001b[0;36mstream_download\u001b[1;34m(url, fname, known_hash, downloader, pooch, retry_if_failed)\u001b[0m\n\u001b[0;32m    806\u001b[0m \u001b[38;5;28;01mwith\u001b[39;00m temporary_file(path\u001b[38;5;241m=\u001b[39m\u001b[38;5;28mstr\u001b[39m(fname\u001b[38;5;241m.\u001b[39mparent)) \u001b[38;5;28;01mas\u001b[39;00m tmp:\n\u001b[0;32m    807\u001b[0m     downloader(url, tmp, pooch)\n\u001b[1;32m--> 808\u001b[0m     hash_matches(tmp, known_hash, strict\u001b[38;5;241m=\u001b[39m\u001b[38;5;28;01mTrue\u001b[39;00m, source\u001b[38;5;241m=\u001b[39m\u001b[38;5;28mstr\u001b[39m(fname\u001b[38;5;241m.\u001b[39mname))\n\u001b[0;32m    809\u001b[0m     shutil\u001b[38;5;241m.\u001b[39mmove(tmp, \u001b[38;5;28mstr\u001b[39m(fname))\n\u001b[0;32m    810\u001b[0m \u001b[38;5;28;01mbreak\u001b[39;00m\n",
      "File \u001b[1;32mc:\\Users\\bryce\\anaconda3\\Lib\\site-packages\\pooch\\hashes.py:176\u001b[0m, in \u001b[0;36mhash_matches\u001b[1;34m(fname, known_hash, strict, source)\u001b[0m\n\u001b[0;32m    174\u001b[0m     \u001b[38;5;28;01mif\u001b[39;00m source \u001b[38;5;129;01mis\u001b[39;00m \u001b[38;5;28;01mNone\u001b[39;00m:\n\u001b[0;32m    175\u001b[0m         source \u001b[38;5;241m=\u001b[39m \u001b[38;5;28mstr\u001b[39m(fname)\n\u001b[1;32m--> 176\u001b[0m     \u001b[38;5;28;01mraise\u001b[39;00m \u001b[38;5;167;01mValueError\u001b[39;00m(\n\u001b[0;32m    177\u001b[0m         \u001b[38;5;124mf\u001b[39m\u001b[38;5;124m\"\u001b[39m\u001b[38;5;132;01m{\u001b[39;00malgorithm\u001b[38;5;241m.\u001b[39mupper()\u001b[38;5;132;01m}\u001b[39;00m\u001b[38;5;124m hash of downloaded file (\u001b[39m\u001b[38;5;132;01m{\u001b[39;00msource\u001b[38;5;132;01m}\u001b[39;00m\u001b[38;5;124m) does not match\u001b[39m\u001b[38;5;124m\"\u001b[39m\n\u001b[0;32m    178\u001b[0m         \u001b[38;5;124mf\u001b[39m\u001b[38;5;124m\"\u001b[39m\u001b[38;5;124m the known hash: expected \u001b[39m\u001b[38;5;132;01m{\u001b[39;00mknown_hash\u001b[38;5;132;01m}\u001b[39;00m\u001b[38;5;124m but got \u001b[39m\u001b[38;5;132;01m{\u001b[39;00mnew_hash\u001b[38;5;132;01m}\u001b[39;00m\u001b[38;5;124m. Deleted\u001b[39m\u001b[38;5;124m\"\u001b[39m\n\u001b[0;32m    179\u001b[0m         \u001b[38;5;124m\"\u001b[39m\u001b[38;5;124m download for safety. The downloaded file may have been corrupted or\u001b[39m\u001b[38;5;124m\"\u001b[39m\n\u001b[0;32m    180\u001b[0m         \u001b[38;5;124m\"\u001b[39m\u001b[38;5;124m the known hash may be outdated.\u001b[39m\u001b[38;5;124m\"\u001b[39m\n\u001b[0;32m    181\u001b[0m     )\n\u001b[0;32m    182\u001b[0m \u001b[38;5;28;01mreturn\u001b[39;00m matches\n",
      "\u001b[1;31mValueError\u001b[0m: SHA256 hash of downloaded file (J_A+A_623_A85.tar.gz) does not match the known hash: expected 87d218fced3c6cbf9cbe288512e9b47a3faa13886068edf18676f3cfdcb08d0f but got 83bbc673a10207838983e0155ec21915caedd6465d6926fba23675562797923d. Deleted download for safety. The downloaded file may have been corrupted or the known hash may be outdated."
     ]
    }
   ],
   "source": [
    "from species import SpeciesInit\n",
    "from species.data.database import Database\n",
    "from species.read.read_isochrone import ReadIsochrone\n",
    "SpeciesInit()\n",
    "database = Database()\n",
    "database.add_isochrones('linder2019')"
   ]
  },
  {
   "cell_type": "code",
   "execution_count": null,
   "metadata": {},
   "outputs": [],
   "source": []
  }
 ],
 "metadata": {
  "kernelspec": {
   "display_name": "base",
   "language": "python",
   "name": "python3"
  },
  "language_info": {
   "codemirror_mode": {
    "name": "ipython",
    "version": 3
   },
   "file_extension": ".py",
   "mimetype": "text/x-python",
   "name": "python",
   "nbconvert_exporter": "python",
   "pygments_lexer": "ipython3",
   "version": "3.11.7"
  }
 },
 "nbformat": 4,
 "nbformat_minor": 2
}
